{
  "nbformat": 4,
  "nbformat_minor": 0,
  "metadata": {
    "colab": {
      "provenance": []
    },
    "kernelspec": {
      "name": "python3",
      "display_name": "Python 3"
    },
    "language_info": {
      "name": "python"
    }
  },
  "cells": [
    {
      "cell_type": "code",
      "execution_count": null,
      "metadata": {
        "id": "5IjrT4Er_sQo"
      },
      "outputs": [],
      "source": [
        "# !pip install transformers"
      ]
    },
    {
      "cell_type": "code",
      "source": [
        "import torch\n",
        "import torch.nn as nn\n",
        "\n",
        "from transformers import GPT2Tokenizer, GPT2Config"
      ],
      "metadata": {
        "id": "uwVF8OEdBZxZ"
      },
      "execution_count": null,
      "outputs": []
    },
    {
      "cell_type": "code",
      "source": [
        "config = GPT2Config()\n",
        "config"
      ],
      "metadata": {
        "colab": {
          "base_uri": "https://localhost:8080/"
        },
        "id": "XA2lKSSuKivk",
        "outputId": "06d09ec4-769f-40a3-95b0-d36aad71855a"
      },
      "execution_count": null,
      "outputs": [
        {
          "output_type": "execute_result",
          "data": {
            "text/plain": [
              "GPT2Config {\n",
              "  \"activation_function\": \"gelu_new\",\n",
              "  \"attn_pdrop\": 0.1,\n",
              "  \"bos_token_id\": 50256,\n",
              "  \"embd_pdrop\": 0.1,\n",
              "  \"eos_token_id\": 50256,\n",
              "  \"initializer_range\": 0.02,\n",
              "  \"layer_norm_epsilon\": 1e-05,\n",
              "  \"model_type\": \"gpt2\",\n",
              "  \"n_embd\": 768,\n",
              "  \"n_head\": 12,\n",
              "  \"n_inner\": null,\n",
              "  \"n_layer\": 12,\n",
              "  \"n_positions\": 1024,\n",
              "  \"reorder_and_upcast_attn\": false,\n",
              "  \"resid_pdrop\": 0.1,\n",
              "  \"scale_attn_by_inverse_layer_idx\": false,\n",
              "  \"scale_attn_weights\": true,\n",
              "  \"summary_activation\": null,\n",
              "  \"summary_first_dropout\": 0.1,\n",
              "  \"summary_proj_to_labels\": true,\n",
              "  \"summary_type\": \"cls_index\",\n",
              "  \"summary_use_proj\": true,\n",
              "  \"transformers_version\": \"4.27.1\",\n",
              "  \"use_cache\": true,\n",
              "  \"vocab_size\": 50257\n",
              "}"
            ]
          },
          "metadata": {},
          "execution_count": 3
        }
      ]
    },
    {
      "cell_type": "code",
      "source": [
        "# Class to implement the self-attention. Inherit from nn.Module.\n",
        "class GPT2Attention(nn.Module):\n",
        "  def __init__(self, config):\n",
        "    super().__init__()\n",
        "\n",
        "    max_positions = config.n_positions # Max number of tokens.\n",
        "    self.mask = torch.tril(torch.ones(max_positions, max_positions), dtype = torch.uint8) # Create a lower triangle binary mask (1s and 0s), where the lower triangular elements = 1.\n",
        "    self.mask = self.mask.view(1, 1, max_positions, max_positions) # Reshape the 2-dimensional tensor into a 4-dimensional tensor.\n",
        "    self.embed_dim = config.n_embed # Retrieve the embedding dimensions.\n",
        "    self.num_heads = config.n_head # Retrive the number of heads.\n",
        "    self.head_dim = self.embed_dim // self.num_heads\n",
        "    self.split_size = self.embed_dim\n",
        "    self.c_attn = nn.Linear(self.embed_dim, 3 * self.embed_dim)\n",
        "    self.c_proj = nn.Linear(self.embed_dim, self.embed_dim)\n",
        "    self.dropout = nn.Dropout(0.1)\n",
        "\n",
        "  def _attn(self, query, key, value):\n",
        "    attn_weights = torch.matmul(query, key.transpose(-1, -2))\n",
        "    attn_weights = attn_weights / float(value.size(-1)) ** 0.5\n",
        "\n",
        "    T = query.size(-2)\n",
        "    casual_mask = self.mask[:, :, :T, :T].bool()\n",
        "    attn_weights = torch.where(casual_mask, attn_weights, torch.tensor(-1e4))\n",
        "\n",
        "    attn_weights = nn.Softmax(dim = -1)(attn_weights) # Apply softmax.\n",
        "    attn_weights = self.dropout(attn_weights) # Drop random elements to avoid overfitting.\n",
        "    attn_output = torch.matmul(attn_weights, value)\n",
        "\n",
        "    return attn_output\n",
        "\n",
        "  # Forward function that performs multi-head self-attention.\n",
        "  def forward(self, x):\n",
        "    B, T, C = x.size() # B = batch size, T = sequence length, C = input features.\n",
        "    query, key, value = self.c_attn(x).split(self.split_size, dim = -1) # Compute the query, key and value matrices for the attention mechanism.\n",
        "    \n",
        "    # Reshape the query, key, value such that the multi-head self-attention can be applied.\n",
        "    query = query.view(B, T, self.num_heads, self.head_dim).transpose(1, 2)\n",
        "    key = key.view(B, T, self.num_heads, self.head_dim).transpose(1, 2)\n",
        "    value = value.view(B, T, self.num_heads, self.head_dim).transpose(1, 2)\n",
        "\n",
        "    attn_output = _attn(query, key, value) # Apply the attention mechanism.\n",
        "    attn_output = attn_output.transpose(1, 2).view(B, T, C)\n",
        "    attn_output = self.c_proj(attn_output)\n",
        "    attn_output = self.dropout(attn_output)\n",
        "\n",
        "    return attn_output"
      ],
      "metadata": {
        "id": "KGnENMvZLA-5"
      },
      "execution_count": null,
      "outputs": []
    },
    {
      "cell_type": "code",
      "source": [
        "# Class to implement the feed-forward network. Inherit from nn.Module.\n",
        "class GPT2MLP(nn.Module):\n",
        "  def __init__(self, config):\n",
        "    super().__init__()\n",
        "    embed_dim = config.n_embd\n",
        "    \n",
        "    self.mlp = nn.Sequential(nn.Linear(embed_dim, 4 * embed_dim),\n",
        "                             nn.GELU(),\n",
        "                             nn.Linear(4 * embed_dim, embed_dim),\n",
        "                             nn.Dropout(0.1)\n",
        "                             )\n",
        "    \n",
        "  def forward(self, x):\n",
        "    return self.mlp(x)"
      ],
      "metadata": {
        "id": "4kqfuYr8djov"
      },
      "execution_count": null,
      "outputs": []
    },
    {
      "cell_type": "code",
      "source": [
        "# Class to define the block (attention layer + mlp layer). Inherit from nn.Module.\n",
        "class GPT2Block(nn.Module):\n",
        "  def __init__(self, config):\n",
        "    super().__init__()\n",
        "    embed_dim = config.n_embd\n",
        "    self.ln_1 = nn.LayerNorm(embed_dim)\n",
        "    self.ln_2 = nn.LayerNorm(embed_dim)\n",
        "    self.attn = GPT2Attention(config)\n",
        "    self.mlp = GPT2MLP(config)\n",
        "\n",
        "  def forward(self, hidden_states):\n",
        "    residual = hidden_states\n",
        "    hidden_states = self.ln_1(hidden_states) # Apply layer normalization.\n",
        "    attn_output = self.attn(hidden_states) # Run it through the attention.\n",
        "    hidden_states = attn_output + residual # Add the residual.\n",
        "\n",
        "    residual = hidden_states\n",
        "    feed_forward_hidden_states = self.mlp(hidden_states) # Run it through the mlp layer.\n",
        "    hidden_states = residual + feed_forward_hidden_states # Add the residual.\n",
        "\n",
        "    return hidden_states"
      ],
      "metadata": {
        "id": "F-WqMTKhgL3o"
      },
      "execution_count": null,
      "outputs": []
    },
    {
      "cell_type": "code",
      "source": [
        "# Class to define the GPT2 model.\n",
        "class GPT2Model(nn.Module):\n",
        "  def __init__(self, config):\n",
        "    super().__init__()\n",
        "    self.embed_dim = config.n_embd\n",
        "    self.vocab_size = config.n_embd\n",
        "\n",
        "    self.wte = nn.Embedding(self.vocab_size, self.embed_dim) # Define the token embedding layer.\n",
        "    self.wpe = nn.Embedding(config.n_positions, self.embed_dim) # Define the positional embedding.\n",
        "\n",
        "    self.drop = nn.Dropout(0.1)\n",
        "    self.blocks = nn.ModuleList([GPT2Block(config) for _ in range(config.n_layer)]) # Define the model stack of identical blocks, with the number of blocks = config.n_layer.\n",
        "    self.ln_final = nn.LayerNorm(self.embed_dim) # Define the final layer normalization.\n",
        "\n",
        "  def forward(self, input_ids = None, position_ids = None):\n",
        "    input_sphape = input_ids.size()\n",
        "    batch_size = input_ids.size(0)\n",
        "    device = input_ids.device\n",
        "\n",
        "    position_ids = torch.arrange(0, input_ids.size(-1), dtype = torch.long, device = device) # Create a 1D tensor of positional indices for each element.\n",
        "    position_ids = position_ids.unsqueeze(0) # Add an extra dimension. Convert 1D tensor to 2D tensor.\n",
        "\n",
        "    input_embeds = self.wte(input_ids)\n",
        "    position_embeds = self.wpe(position_ids)\n",
        "    hidden_states = input_embeds + position_embeds\n",
        "    hidden_states = self.drop(hidden_states)\n",
        "\n",
        "    # Iterate through all the blocks.\n",
        "    for block in self.blocks:\n",
        "      hidden_states = block(hidden_states)\n",
        "\n",
        "    hidden_states = self.ln_final(hidden_states)\n",
        "\n",
        "    return hidden_states"
      ],
      "metadata": {
        "id": "ytz-QXvkizDc"
      },
      "execution_count": null,
      "outputs": []
    },
    {
      "cell_type": "code",
      "source": [
        "# Class to define the language model head for text generation. Inherit from nn.Module.\n",
        "class GPT2LMHead(nn.Module):\n",
        "  def __init__(self, config):\n",
        "    super().__init__()\n",
        "\n",
        "    self.transformer = GPT2Model(config) # The encoder for the GPT2 architecture.\n",
        "    self.lm_head = nn.Linear(config.n_embd, config.vocab_size, bias = False) # Map the output of the transformer to a vocabulary-sized output vector.\n",
        "    self.xe = nn.CrossEntropyLoss(ignore_index = tokenizer.pad_token) # Compute the loss during training.\n",
        "\n",
        "  def forward(self, input_ids = None, position_ids = None, labels = None):\n",
        "    hidden_states = self.transformer(input_ids)\n",
        "    lm_logits = self.lm_head(hidden_states)\n",
        "\n",
        "    loss = None\n",
        "    if labels is not None:\n",
        "      shift_logits = lm_logits[:, :-1, :]\n",
        "      shift_labels = labels[:, 1:]\n",
        "      loss = self.xe(shift_logits.view(-1, shift_logits(-1)), shift_labels.view(-1))\n",
        "\n",
        "    return lm_logits, loss"
      ],
      "metadata": {
        "id": "d7AwYgzbo0OO"
      },
      "execution_count": null,
      "outputs": []
    }
  ]
}